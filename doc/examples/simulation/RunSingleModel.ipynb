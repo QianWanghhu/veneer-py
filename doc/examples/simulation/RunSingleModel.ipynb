{
 "cells": [
  {
   "cell_type": "markdown",
   "metadata": {},
   "source": [
    "# Running component models\n",
    "\n",
    "There are many component models in Source, such as rainfall runoff models and routing models. Many of these can be run independently, outside of the context of a Source scenario.\n",
    "\n",
    "There are various ways to do this from Python, some which use Veneer and some that don't.\n",
    "\n",
    "This example notebook demonstrates how it can be done through Veneer."
   ]
  },
  {
   "cell_type": "code",
   "execution_count": 1,
   "metadata": {},
   "outputs": [],
   "source": [
    "import veneer\n",
    "from veneer.manage import start, kill_all_now\n",
    "\n",
    "import numpy as np\n",
    "import pandas as pd\n",
    "import matplotlib.pyplot as plt\n",
    "%matplotlib inline"
   ]
  },
  {
   "cell_type": "markdown",
   "metadata": {},
   "source": [
    "## Start a copy of the Veneer command line, *without* a Source project file\n",
    "\n",
    "Recent versions of Veneer include the option to start the command line without specifying a Source project.\n",
    "\n",
    "In this case, the Veneer command line starts, and creates a new Source Project and Source Scenario 'in memory'. This option can be used to create a scenario (node, links, etc) entirely from Python. Alternatively (and in this example) we can simply ignore the newly created project and scenario and run individual models through Veneer"
   ]
  },
  {
   "cell_type": "code",
   "execution_count": 2,
   "metadata": {},
   "outputs": [],
   "source": [
    "PATH_TO_VENEER='<path to FlowMatters.Source.VeneerCmd.exe, likely set up by veneer.manage.create_command_line>'"
   ]
  },
  {
   "cell_type": "code",
   "execution_count": 4,
   "metadata": {},
   "outputs": [
    {
     "name": "stdout",
     "output_type": "stream",
     "text": [
      "Starting D:\\src\\projects\\py\\veneer-py\\doc\\examples\\simulation\\veneer_cmd\\FlowMatters.Source.VeneerCmd.exe -p 9876 -r -s  \n",
      "[0] Loading plugins\n",
      "\n",
      "[0] Loaded D:\\src\\projects\\gbr\\Output\\Plugins\\CommunityPlugins\\GBR_DynSed_Extension.dll\n",
      "\n",
      "[0] Loaded D:\\src\\projects\\gbr\\Output\\Plugins\\CommunityPlugins\\ReefHydroCalModels.dll\n",
      "\n",
      "[0] Plugins loaded (2/5)\n",
      "\n",
      "[0] Scenario 1\n",
      "\n",
      "[0] [2:39:38 PM] Veneer, by Flow Matters: http://www.flowmatters.com.au\n",
      "\n",
      "[0] [2:39:38 PM] Started Source RESTful Service on port:9877\n",
      "\n",
      "Server 0 on port 9876 is ready\n",
      "[0] Server started. Ctrl-C to exit, or POST /shutdown command\n",
      "\n"
     ]
    }
   ],
   "source": [
    "processes,ports = start(veneer_exe=PATH_TO_VENEER,debug=True,project_fn=None)\n"
   ]
  },
  {
   "cell_type": "markdown",
   "metadata": {},
   "source": [
    "## Model setup\n",
    "\n",
    "We will run the Simhyd rainfall runoff model. Simhyd requires rainfall and PET and the Source version of Simhyd has 9 parameters.\n",
    "\n",
    "We need to know:\n",
    "\n",
    "* The name of the model class in Source,\n",
    "* The names of the inputs - where we will use timeseries,\n",
    "* The names of the parameters and their default values, which we might change\n",
    "* The names of any state variables and outputs, which we might choose to record as time series\n",
    "\n",
    "These are discoverable through the Veneer interface"
   ]
  },
  {
   "cell_type": "code",
   "execution_count": 5,
   "metadata": {},
   "outputs": [],
   "source": [
    "v = veneer.Veneer(ports[0])"
   ]
  },
  {
   "cell_type": "code",
   "execution_count": 6,
   "metadata": {},
   "outputs": [
    {
     "data": {
      "text/plain": [
       "'TIME.Models.RainfallRunoff.SimHyd.SimHydCs'"
      ]
     },
     "execution_count": 6,
     "metadata": {},
     "output_type": "execute_result"
    }
   ],
   "source": [
    "model_name = v.model.find_model_type('SimHydCs')[0]\n",
    "model_name"
   ]
  },
  {
   "cell_type": "code",
   "execution_count": 7,
   "metadata": {},
   "outputs": [
    {
     "data": {
      "text/plain": [
       "['pet', 'rainfall']"
      ]
     },
     "execution_count": 7,
     "metadata": {},
     "output_type": "execute_result"
    }
   ],
   "source": [
    "v.model.find_inputs(model_name)"
   ]
  },
  {
   "cell_type": "code",
   "execution_count": 8,
   "metadata": {},
   "outputs": [
    {
     "data": {
      "text/plain": [
       "['MassBalance', 'runoff']"
      ]
     },
     "execution_count": 8,
     "metadata": {},
     "output_type": "execute_result"
    }
   ],
   "source": [
    "v.model.find_outputs(model_name)"
   ]
  },
  {
   "cell_type": "code",
   "execution_count": 9,
   "metadata": {},
   "outputs": [
    {
     "data": {
      "text/plain": [
       "['EffectiveRainfall',\n",
       " 'EventRunoff',\n",
       " 'Groundwater',\n",
       " 'ImperviousEt',\n",
       " 'ImperviousIncident',\n",
       " 'ImperviousRunoff',\n",
       " 'Infiltration',\n",
       " 'InfiltrationAfterFlow',\n",
       " 'InfiltrationAfterInterflow',\n",
       " 'InfiltrationCapacity',\n",
       " 'InfiltrationXsRunoff',\n",
       " 'InterceptionEt',\n",
       " 'InterflowRunoff',\n",
       " 'PerviousIncident',\n",
       " 'Recharge',\n",
       " 'SoilEt',\n",
       " 'SoilInput',\n",
       " 'SoilMoistureStore',\n",
       " 'Throughfall',\n",
       " 'TotalEt',\n",
       " 'TotalStore',\n",
       " 'baseflow']"
      ]
     },
     "execution_count": 9,
     "metadata": {},
     "output_type": "execute_result"
    }
   ],
   "source": [
    "v.model.find_states(model_name)"
   ]
  },
  {
   "cell_type": "code",
   "execution_count": 10,
   "metadata": {},
   "outputs": [
    {
     "data": {
      "text/plain": [
       "{'baseflowCoefficient': 0.3,\n",
       " 'imperviousThreshold': 1,\n",
       " 'infiltrationCoefficient': 200,\n",
       " 'infiltrationShape': 3,\n",
       " 'interflowCoefficient': 0.1,\n",
       " 'perviousFraction': 0.9,\n",
       " 'rainfallInterceptionStoreCapacity': 1.5,\n",
       " 'rechargeCoefficient': 0.2,\n",
       " 'soilMoistureStoreCapacity': 320}"
      ]
     },
     "execution_count": 10,
     "metadata": {},
     "output_type": "execute_result"
    }
   ],
   "source": [
    "DEFAULT_PARAMETERS = v.model.find_default_parameters(model_name)\n",
    "DEFAULT_PARAMETERS"
   ]
  },
  {
   "cell_type": "markdown",
   "metadata": {},
   "source": [
    "## Setup input time series\n",
    "\n",
    "Each input time series needs to be a pandas Series object, with a datetime index.\n",
    "\n"
   ]
  },
  {
   "cell_type": "code",
   "execution_count": 11,
   "metadata": {},
   "outputs": [
    {
     "data": {
      "text/html": [
       "<div>\n",
       "<style scoped>\n",
       "    .dataframe tbody tr th:only-of-type {\n",
       "        vertical-align: middle;\n",
       "    }\n",
       "\n",
       "    .dataframe tbody tr th {\n",
       "        vertical-align: top;\n",
       "    }\n",
       "\n",
       "    .dataframe thead th {\n",
       "        text-align: right;\n",
       "    }\n",
       "</style>\n",
       "<table border=\"1\" class=\"dataframe\">\n",
       "  <thead>\n",
       "    <tr style=\"text-align: right;\">\n",
       "      <th></th>\n",
       "      <th>rain</th>\n",
       "      <th>evap</th>\n",
       "    </tr>\n",
       "    <tr>\n",
       "      <th>date</th>\n",
       "      <th></th>\n",
       "      <th></th>\n",
       "    </tr>\n",
       "  </thead>\n",
       "  <tbody>\n",
       "    <tr>\n",
       "      <th>1995-01-01</th>\n",
       "      <td>0.0</td>\n",
       "      <td>18.0</td>\n",
       "    </tr>\n",
       "    <tr>\n",
       "      <th>1995-01-02</th>\n",
       "      <td>0.0</td>\n",
       "      <td>17.0</td>\n",
       "    </tr>\n",
       "    <tr>\n",
       "      <th>1995-01-03</th>\n",
       "      <td>0.0</td>\n",
       "      <td>14.0</td>\n",
       "    </tr>\n",
       "    <tr>\n",
       "      <th>1995-01-04</th>\n",
       "      <td>0.1</td>\n",
       "      <td>12.4</td>\n",
       "    </tr>\n",
       "    <tr>\n",
       "      <th>1995-01-05</th>\n",
       "      <td>1.0</td>\n",
       "      <td>14.0</td>\n",
       "    </tr>\n",
       "    <tr>\n",
       "      <th>1995-01-06</th>\n",
       "      <td>0.0</td>\n",
       "      <td>17.2</td>\n",
       "    </tr>\n",
       "    <tr>\n",
       "      <th>1995-01-07</th>\n",
       "      <td>0.0</td>\n",
       "      <td>16.8</td>\n",
       "    </tr>\n",
       "    <tr>\n",
       "      <th>1995-01-08</th>\n",
       "      <td>0.0</td>\n",
       "      <td>15.6</td>\n",
       "    </tr>\n",
       "    <tr>\n",
       "      <th>1995-01-09</th>\n",
       "      <td>0.0</td>\n",
       "      <td>15.0</td>\n",
       "    </tr>\n",
       "    <tr>\n",
       "      <th>1995-01-10</th>\n",
       "      <td>0.0</td>\n",
       "      <td>9.8</td>\n",
       "    </tr>\n",
       "  </tbody>\n",
       "</table>\n",
       "</div>"
      ],
      "text/plain": [
       "            rain  evap\n",
       "date                  \n",
       "1995-01-01   0.0  18.0\n",
       "1995-01-02   0.0  17.0\n",
       "1995-01-03   0.0  14.0\n",
       "1995-01-04   0.1  12.4\n",
       "1995-01-05   1.0  14.0\n",
       "1995-01-06   0.0  17.2\n",
       "1995-01-07   0.0  16.8\n",
       "1995-01-08   0.0  15.6\n",
       "1995-01-09   0.0  15.0\n",
       "1995-01-10   0.0   9.8"
      ]
     },
     "execution_count": 11,
     "metadata": {},
     "output_type": "execute_result"
    }
   ],
   "source": [
    "tbl = pd.read_csv('eg_climate.csv',index_col='date',parse_dates=True)\n",
    "tbl[:10]"
   ]
  },
  {
   "cell_type": "code",
   "execution_count": 12,
   "metadata": {},
   "outputs": [
    {
     "data": {
      "text/plain": [
       "DatetimeIndex(['1995-01-01', '1995-01-02', '1995-01-03', '1995-01-04',\n",
       "               '1995-01-05', '1995-01-06', '1995-01-07', '1995-01-08',\n",
       "               '1995-01-09', '1995-01-10',\n",
       "               ...\n",
       "               '2005-12-22', '2005-12-23', '2005-12-24', '2005-12-25',\n",
       "               '2005-12-26', '2005-12-27', '2005-12-28', '2005-12-29',\n",
       "               '2005-12-30', '2005-12-31'],\n",
       "              dtype='datetime64[ns]', name='date', length=4018, freq=None)"
      ]
     },
     "execution_count": 12,
     "metadata": {},
     "output_type": "execute_result"
    }
   ],
   "source": [
    "tbl.index"
   ]
  },
  {
   "cell_type": "code",
   "execution_count": 13,
   "metadata": {},
   "outputs": [],
   "source": [
    "inputs = {\n",
    "    'rainfall':tbl['rain'],\n",
    "    'pet':tbl['evap']\n",
    "}"
   ]
  },
  {
   "cell_type": "markdown",
   "metadata": {},
   "source": [
    "## Run the model"
   ]
  },
  {
   "cell_type": "code",
   "execution_count": 14,
   "metadata": {},
   "outputs": [],
   "source": [
    "things_to_record = [\n",
    "    'runoff',\n",
    "    'baseflow',\n",
    "    'SoilMoistureStore',\n",
    "    'Groundwater'\n",
    "]"
   ]
  },
  {
   "cell_type": "code",
   "execution_count": 15,
   "metadata": {},
   "outputs": [],
   "source": [
    "res = v.model.component.run_model(model_name,\n",
    "                                  inputs=inputs,\n",
    "                                  parameters=DEFAULT_PARAMETERS,\n",
    "                                  outputs=things_to_record)"
   ]
  },
  {
   "cell_type": "code",
   "execution_count": 16,
   "metadata": {},
   "outputs": [
    {
     "data": {
      "text/html": [
       "<div>\n",
       "<style scoped>\n",
       "    .dataframe tbody tr th:only-of-type {\n",
       "        vertical-align: middle;\n",
       "    }\n",
       "\n",
       "    .dataframe tbody tr th {\n",
       "        vertical-align: top;\n",
       "    }\n",
       "\n",
       "    .dataframe thead th {\n",
       "        text-align: right;\n",
       "    }\n",
       "</style>\n",
       "<table border=\"1\" class=\"dataframe\">\n",
       "  <thead>\n",
       "    <tr style=\"text-align: right;\">\n",
       "      <th></th>\n",
       "      <th>Groundwater</th>\n",
       "      <th>SoilMoistureStore</th>\n",
       "      <th>baseflow</th>\n",
       "      <th>runoff</th>\n",
       "    </tr>\n",
       "  </thead>\n",
       "  <tbody>\n",
       "    <tr>\n",
       "      <th>1995-01-01</th>\n",
       "      <td>0.0</td>\n",
       "      <td>0.0</td>\n",
       "      <td>0.0</td>\n",
       "      <td>0.0</td>\n",
       "    </tr>\n",
       "    <tr>\n",
       "      <th>1995-01-02</th>\n",
       "      <td>0.0</td>\n",
       "      <td>0.0</td>\n",
       "      <td>0.0</td>\n",
       "      <td>0.0</td>\n",
       "    </tr>\n",
       "    <tr>\n",
       "      <th>1995-01-03</th>\n",
       "      <td>0.0</td>\n",
       "      <td>0.0</td>\n",
       "      <td>0.0</td>\n",
       "      <td>0.0</td>\n",
       "    </tr>\n",
       "    <tr>\n",
       "      <th>1995-01-04</th>\n",
       "      <td>0.0</td>\n",
       "      <td>0.0</td>\n",
       "      <td>0.0</td>\n",
       "      <td>0.0</td>\n",
       "    </tr>\n",
       "    <tr>\n",
       "      <th>1995-01-05</th>\n",
       "      <td>0.0</td>\n",
       "      <td>0.0</td>\n",
       "      <td>0.0</td>\n",
       "      <td>0.0</td>\n",
       "    </tr>\n",
       "    <tr>\n",
       "      <th>1995-01-06</th>\n",
       "      <td>0.0</td>\n",
       "      <td>0.0</td>\n",
       "      <td>0.0</td>\n",
       "      <td>0.0</td>\n",
       "    </tr>\n",
       "    <tr>\n",
       "      <th>1995-01-07</th>\n",
       "      <td>0.0</td>\n",
       "      <td>0.0</td>\n",
       "      <td>0.0</td>\n",
       "      <td>0.0</td>\n",
       "    </tr>\n",
       "    <tr>\n",
       "      <th>1995-01-08</th>\n",
       "      <td>0.0</td>\n",
       "      <td>0.0</td>\n",
       "      <td>0.0</td>\n",
       "      <td>0.0</td>\n",
       "    </tr>\n",
       "    <tr>\n",
       "      <th>1995-01-09</th>\n",
       "      <td>0.0</td>\n",
       "      <td>0.0</td>\n",
       "      <td>0.0</td>\n",
       "      <td>0.0</td>\n",
       "    </tr>\n",
       "    <tr>\n",
       "      <th>1995-01-10</th>\n",
       "      <td>0.0</td>\n",
       "      <td>0.0</td>\n",
       "      <td>0.0</td>\n",
       "      <td>0.0</td>\n",
       "    </tr>\n",
       "  </tbody>\n",
       "</table>\n",
       "</div>"
      ],
      "text/plain": [
       "            Groundwater  SoilMoistureStore  baseflow  runoff\n",
       "1995-01-01          0.0                0.0       0.0     0.0\n",
       "1995-01-02          0.0                0.0       0.0     0.0\n",
       "1995-01-03          0.0                0.0       0.0     0.0\n",
       "1995-01-04          0.0                0.0       0.0     0.0\n",
       "1995-01-05          0.0                0.0       0.0     0.0\n",
       "1995-01-06          0.0                0.0       0.0     0.0\n",
       "1995-01-07          0.0                0.0       0.0     0.0\n",
       "1995-01-08          0.0                0.0       0.0     0.0\n",
       "1995-01-09          0.0                0.0       0.0     0.0\n",
       "1995-01-10          0.0                0.0       0.0     0.0"
      ]
     },
     "execution_count": 16,
     "metadata": {},
     "output_type": "execute_result"
    }
   ],
   "source": [
    "res[:10]"
   ]
  },
  {
   "cell_type": "code",
   "execution_count": 17,
   "metadata": {},
   "outputs": [
    {
     "data": {
      "text/plain": [
       "<matplotlib.axes._subplots.AxesSubplot at 0x202d1b3a828>"
      ]
     },
     "execution_count": 17,
     "metadata": {},
     "output_type": "execute_result"
    },
    {
     "data": {
      "image/png": "[encoded data removed]",
      "text/plain": [
       "<matplotlib.figure.Figure at 0x202d1b3ae10>"
      ]
     },
     "metadata": {},
     "output_type": "display_data"
    }
   ],
   "source": [
    "res['runoff'].plot()"
   ]
  },
  {
   "cell_type": "markdown",
   "metadata": {},
   "source": [
    "## Shut down Veneer"
   ]
  },
  {
   "cell_type": "code",
   "execution_count": 18,
   "metadata": {},
   "outputs": [],
   "source": [
    "kill_all_now(processes)"
   ]
  },
  {
   "cell_type": "code",
   "execution_count": null,
   "metadata": {},
   "outputs": [],
   "source": []
  }
 ],
 "metadata": {
  "kernelspec": {
   "display_name": "Python 3",
   "language": "python",
   "name": "python3"
  },
  "language_info": {
   "codemirror_mode": {
    "name": "ipython",
    "version": 3
   },
   "file_extension": ".py",
   "mimetype": "text/x-python",
   "name": "python",
   "nbconvert_exporter": "python",
   "pygments_lexer": "ipython3",
   "version": "3.6.4"
  }
 },
 "nbformat": 4,
 "nbformat_minor": 2
}
