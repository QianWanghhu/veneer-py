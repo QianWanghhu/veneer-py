{
 "cells": [
  {
   "cell_type": "markdown",
   "metadata": {},
   "source": [
    "# Example for bulk function management\n",
    "\n",
    "Shows:\n",
    "\n",
    "* Creating multiple modelled variables\n",
    "* Creating multiple functions of the same form, each using one of the newly created modelled variables\n",
    "* Applying multiple functions"
   ]
  },
  {
   "cell_type": "code",
   "execution_count": 1,
   "metadata": {},
   "outputs": [],
   "source": [
    "import veneer\n",
    "v = veneer.Veneer()\n",
    "%matplotlib inline"
   ]
  },
  {
   "cell_type": "markdown",
   "metadata": {},
   "source": [
    "_Demonstration model_"
   ]
  },
  {
   "cell_type": "code",
   "execution_count": 2,
   "metadata": {},
   "outputs": [
    {
     "data": {
      "text/plain": [
       "<matplotlib.axes._subplots.AxesSubplot at 0x1fb03569eb8>"
      ]
     },
     "execution_count": 2,
     "metadata": {},
     "output_type": "execute_result"
    },
    {
     "data": {
      "image/png": "[encoded data removed]",
      "text/plain": [
       "<matplotlib.figure.Figure at 0x1fb0355f208>"
      ]
     },
     "metadata": {},
     "output_type": "display_data"
    }
   ],
   "source": [
    "v.network().plot()"
   ]
  },
  {
   "cell_type": "code",
   "execution_count": 3,
   "metadata": {},
   "outputs": [
    {
     "data": {
      "text/plain": [
       "{'TIME.Models.RainfallRunoff.AWBM.AWBM'}"
      ]
     },
     "execution_count": 3,
     "metadata": {},
     "output_type": "execute_result"
    }
   ],
   "source": [
    "set(v.model.catchment.runoff.get_models())"
   ]
  },
  {
   "cell_type": "code",
   "execution_count": 4,
   "metadata": {},
   "outputs": [
    {
     "data": {
      "text/plain": [
       "['BaseflowRecharge',\n",
       " 'BaseflowStore',\n",
       " 'EffectiveRainfall',\n",
       " 'Excess',\n",
       " 'PartialExcess',\n",
       " 'RoutedSurfaceRunoff',\n",
       " 'S1',\n",
       " 'S2',\n",
       " 'S3',\n",
       " 'Store',\n",
       " 'SurfaceRunoff',\n",
       " 'SurfaceStore',\n",
       " 'baseflow']"
      ]
     },
     "execution_count": 4,
     "metadata": {},
     "output_type": "execute_result"
    }
   ],
   "source": [
    "v.model.find_states('TIME.Models.RainfallRunoff.AWBM.AWBM')"
   ]
  },
  {
   "cell_type": "code",
   "execution_count": 5,
   "metadata": {},
   "outputs": [
    {
     "data": {
      "text/plain": [
       "\u001b[1;31mSignature:\u001b[0m \u001b[0mv\u001b[0m\u001b[1;33m.\u001b[0m\u001b[0mmodel\u001b[0m\u001b[1;33m.\u001b[0m\u001b[0mcatchment\u001b[0m\u001b[1;33m.\u001b[0m\u001b[0mrunoff\u001b[0m\u001b[1;33m.\u001b[0m\u001b[0mcreate_modelled_variable\u001b[0m\u001b[1;33m(\u001b[0m\u001b[0mparameter\u001b[0m\u001b[1;33m,\u001b[0m \u001b[0melement_name\u001b[0m\u001b[1;33m=\u001b[0m\u001b[1;32mNone\u001b[0m\u001b[1;33m,\u001b[0m \u001b[1;33m**\u001b[0m\u001b[0mkwargs\u001b[0m\u001b[1;33m)\u001b[0m\u001b[1;33m\u001b[0m\u001b[0m\n",
       "\u001b[1;31mDocstring:\u001b[0m\n",
       "Create a modelled variable for accessing a model's properties from a function.\n",
       "\n",
       "**NOTE:** DIFFERENT BEHAVIOUR. In contrast to many other functions, the parameter here should be named as they appear in the Source user interface.\n",
       "(Where in most other functions here, parameter is the name as it appears in code). For example, 'Rainfall' is used HERE to indicate the Rainfall input of\n",
       "a rainfall runoff model, but, 'rainfall' is used in assign_time_series.\n",
       "\n",
       "See potential_modelled_variables for a list of parameter names applicable to your query (kwargs)\n",
       "\u001b[1;31mFile:\u001b[0m      d:\\src\\projects\\py\\veneer-py\\veneer\\server_side.py\n",
       "\u001b[1;31mType:\u001b[0m      method\n"
      ]
     },
     "metadata": {},
     "output_type": "display_data"
    }
   ],
   "source": [
    "v.model.catchment.runoff.create_modelled_variable?"
   ]
  },
  {
   "cell_type": "markdown",
   "metadata": {},
   "source": [
    "**NOTE:** When creating modelled variables we need to use the names that appear in the Project Explorer.\n",
    "\n",
    "Also note that not everything will be available. If its not in the Project Explorer, you probably can't use it for a modelled variable"
   ]
  },
  {
   "cell_type": "code",
   "execution_count": 6,
   "metadata": {},
   "outputs": [],
   "source": [
    "# Save the result!\n",
    "variables = v.model.catchment.runoff.create_modelled_variable('Baseflow store')"
   ]
  },
  {
   "cell_type": "markdown",
   "metadata": {},
   "source": [
    "The result of the function call is very important. It tells us what was created and the names.\n",
    "\n",
    "The names will be based on the target variable (Baseflow store) and the names (plural) of the target object, in this case, catchment and FU."
   ]
  },
  {
   "cell_type": "code",
   "execution_count": 18,
   "metadata": {},
   "outputs": [
    {
     "data": {
      "text/plain": [
       "{'created': ['$Baseflow_store_Catchment_for_node_0_Forest',\n",
       "  '$Baseflow_store_Catchment_for_node_0_Urban',\n",
       "  '$Baseflow_store_Catchment_for_node_1_Forest',\n",
       "  '$Baseflow_store_Catchment_for_node_1_Urban',\n",
       "  '$Baseflow_store_Catchment_for_node_2_Forest',\n",
       "  '$Baseflow_store_Catchment_for_node_2_Urban',\n",
       "  '$Baseflow_store_Catchment_for_node_3_Forest',\n",
       "  '$Baseflow_store_Catchment_for_node_3_Urban',\n",
       "  '$Baseflow_store_Catchment_for_node_4_Forest',\n",
       "  '$Baseflow_store_Catchment_for_node_4_Urban',\n",
       "  '$Baseflow_store_Catchment_for_node_5_Forest',\n",
       "  '$Baseflow_store_Catchment_for_node_5_Urban',\n",
       "  '$Baseflow_store_Catchment_for_node_6_Forest',\n",
       "  '$Baseflow_store_Catchment_for_node_6_Urban',\n",
       "  '$Baseflow_store_Catchment_for_node_7_Forest',\n",
       "  '$Baseflow_store_Catchment_for_node_7_Urban',\n",
       "  '$Baseflow_store_Catchment_for_node_8_Forest',\n",
       "  '$Baseflow_store_Catchment_for_node_8_Urban',\n",
       "  '$Baseflow_store_Catchment_for_node_9_Forest',\n",
       "  '$Baseflow_store_Catchment_for_node_9_Urban'],\n",
       " 'failed': []}"
      ]
     },
     "execution_count": 18,
     "metadata": {},
     "output_type": "execute_result"
    }
   ],
   "source": [
    "variables"
   ]
  },
  {
   "cell_type": "code",
   "execution_count": 19,
   "metadata": {},
   "outputs": [
    {
     "data": {
      "text/plain": [
       "['$Baseflow_store_Catchment_for_node_0_Forest',\n",
       " '$Baseflow_store_Catchment_for_node_0_Urban',\n",
       " '$Baseflow_store_Catchment_for_node_1_Forest',\n",
       " '$Baseflow_store_Catchment_for_node_1_Urban',\n",
       " '$Baseflow_store_Catchment_for_node_2_Forest',\n",
       " '$Baseflow_store_Catchment_for_node_2_Urban',\n",
       " '$Baseflow_store_Catchment_for_node_3_Forest',\n",
       " '$Baseflow_store_Catchment_for_node_3_Urban',\n",
       " '$Baseflow_store_Catchment_for_node_4_Forest',\n",
       " '$Baseflow_store_Catchment_for_node_4_Urban',\n",
       " '$Baseflow_store_Catchment_for_node_5_Forest',\n",
       " '$Baseflow_store_Catchment_for_node_5_Urban',\n",
       " '$Baseflow_store_Catchment_for_node_6_Forest',\n",
       " '$Baseflow_store_Catchment_for_node_6_Urban',\n",
       " '$Baseflow_store_Catchment_for_node_7_Forest',\n",
       " '$Baseflow_store_Catchment_for_node_7_Urban',\n",
       " '$Baseflow_store_Catchment_for_node_8_Forest',\n",
       " '$Baseflow_store_Catchment_for_node_8_Urban',\n",
       " '$Baseflow_store_Catchment_for_node_9_Forest',\n",
       " '$Baseflow_store_Catchment_for_node_9_Urban']"
      ]
     },
     "execution_count": 19,
     "metadata": {},
     "output_type": "execute_result"
    }
   ],
   "source": [
    "# variables['created'] are the variable names that we want to insert into the functions\n",
    "variables['created']"
   ]
  },
  {
   "cell_type": "code",
   "execution_count": 9,
   "metadata": {},
   "outputs": [
    {
     "data": {
      "text/plain": [
       "[('Catchment for node #0', 'Forest'),\n",
       " ('Catchment for node #0', 'Urban'),\n",
       " ('Catchment for node #1', 'Forest'),\n",
       " ('Catchment for node #1', 'Urban'),\n",
       " ('Catchment for node #2', 'Forest'),\n",
       " ('Catchment for node #2', 'Urban'),\n",
       " ('Catchment for node #3', 'Forest'),\n",
       " ('Catchment for node #3', 'Urban'),\n",
       " ('Catchment for node #4', 'Forest'),\n",
       " ('Catchment for node #4', 'Urban'),\n",
       " ('Catchment for node #5', 'Forest'),\n",
       " ('Catchment for node #5', 'Urban'),\n",
       " ('Catchment for node #6', 'Forest'),\n",
       " ('Catchment for node #6', 'Urban'),\n",
       " ('Catchment for node #7', 'Forest'),\n",
       " ('Catchment for node #7', 'Urban'),\n",
       " ('Catchment for node #8', 'Forest'),\n",
       " ('Catchment for node #8', 'Urban'),\n",
       " ('Catchment for node #9', 'Forest'),\n",
       " ('Catchment for node #9', 'Urban')]"
      ]
     },
     "execution_count": 9,
     "metadata": {},
     "output_type": "execute_result"
    }
   ],
   "source": [
    "name_params = list(v.model.catchment.runoff.enumerate_names())\n",
    "name_params"
   ]
  },
  {
   "cell_type": "code",
   "execution_count": 3,
   "metadata": {},
   "outputs": [
    {
     "data": {
      "text/plain": [
       "\u001b[1;31mSignature:\u001b[0m \u001b[0mv\u001b[0m\u001b[1;33m.\u001b[0m\u001b[0mmodel\u001b[0m\u001b[1;33m.\u001b[0m\u001b[0mfunctions\u001b[0m\u001b[1;33m.\u001b[0m\u001b[0mcreate_functions\u001b[0m\u001b[1;33m(\u001b[0m\u001b[0mnames\u001b[0m\u001b[1;33m,\u001b[0m \u001b[0mgeneral_equation\u001b[0m\u001b[1;33m,\u001b[0m \u001b[0mparams\u001b[0m\u001b[1;33m=\u001b[0m\u001b[1;33m[\u001b[0m\u001b[1;33m[\u001b[0m\u001b[1;33m]\u001b[0m\u001b[1;33m]\u001b[0m\u001b[1;33m,\u001b[0m \u001b[0mname_params\u001b[0m\u001b[1;33m=\u001b[0m\u001b[1;32mNone\u001b[0m\u001b[1;33m)\u001b[0m\u001b[1;33m\u001b[0m\u001b[0m\n",
       "\u001b[1;31mDocstring:\u001b[0m\n",
       "Create one function, or multiple functions based on a pattern\n",
       "\n",
       "names: Either a list of function names OR a generic name to be filled in using the values of name_params\n",
       "\n",
       "general_equation: A general equation with %%s, %%f, etc substitution characters where params will be included\n",
       "\n",
       "params: A list of parameters to the general_equation.\n",
       "        These can be anything, but will often be the names of modelled variables, and/or scalars\n",
       "\n",
       "name_params: A list of tuples, containing the name parameters to substitute into the names (if a template name is provided)\n",
       "\u001b[1;31mFile:\u001b[0m      d:\\src\\projects\\py\\veneer-py\\veneer\\server_side.py\n",
       "\u001b[1;31mType:\u001b[0m      method\n"
      ]
     },
     "metadata": {},
     "output_type": "display_data"
    }
   ],
   "source": [
    "v.model.functions.create_functions?"
   ]
  },
  {
   "cell_type": "code",
   "execution_count": 11,
   "metadata": {},
   "outputs": [],
   "source": [
    "# Again, save the result...\n",
    "functions = v.model.functions.create_functions('$funky_%s_%s','1.1 * %s',variables['created'],name_params)"
   ]
  },
  {
   "cell_type": "markdown",
   "metadata": {},
   "source": [
    "Result of create_functions includes a list of created functions"
   ]
  },
  {
   "cell_type": "code",
   "execution_count": 12,
   "metadata": {},
   "outputs": [
    {
     "data": {
      "text/plain": [
       "{'created': ['$funky_Catchment_for_node_0_Forest',\n",
       "  '$funky_Catchment_for_node_0_Urban',\n",
       "  '$funky_Catchment_for_node_1_Forest',\n",
       "  '$funky_Catchment_for_node_1_Urban',\n",
       "  '$funky_Catchment_for_node_2_Forest',\n",
       "  '$funky_Catchment_for_node_2_Urban',\n",
       "  '$funky_Catchment_for_node_3_Forest',\n",
       "  '$funky_Catchment_for_node_3_Urban',\n",
       "  '$funky_Catchment_for_node_4_Forest',\n",
       "  '$funky_Catchment_for_node_4_Urban',\n",
       "  '$funky_Catchment_for_node_5_Forest',\n",
       "  '$funky_Catchment_for_node_5_Urban',\n",
       "  '$funky_Catchment_for_node_6_Forest',\n",
       "  '$funky_Catchment_for_node_6_Urban',\n",
       "  '$funky_Catchment_for_node_7_Forest',\n",
       "  '$funky_Catchment_for_node_7_Urban',\n",
       "  '$funky_Catchment_for_node_8_Forest',\n",
       "  '$funky_Catchment_for_node_8_Urban',\n",
       "  '$funky_Catchment_for_node_9_Forest',\n",
       "  '$funky_Catchment_for_node_9_Urban'],\n",
       " 'failed': []}"
      ]
     },
     "execution_count": 12,
     "metadata": {},
     "output_type": "execute_result"
    }
   ],
   "source": [
    "functions"
   ]
  },
  {
   "cell_type": "code",
   "execution_count": 13,
   "metadata": {},
   "outputs": [
    {
     "data": {
      "text/plain": [
       "['$funky_Catchment_for_node_0_Forest',\n",
       " '$funky_Catchment_for_node_0_Urban',\n",
       " '$funky_Catchment_for_node_1_Forest',\n",
       " '$funky_Catchment_for_node_1_Urban',\n",
       " '$funky_Catchment_for_node_2_Forest',\n",
       " '$funky_Catchment_for_node_2_Urban',\n",
       " '$funky_Catchment_for_node_3_Forest',\n",
       " '$funky_Catchment_for_node_3_Urban',\n",
       " '$funky_Catchment_for_node_4_Forest',\n",
       " '$funky_Catchment_for_node_4_Urban',\n",
       " '$funky_Catchment_for_node_5_Forest',\n",
       " '$funky_Catchment_for_node_5_Urban',\n",
       " '$funky_Catchment_for_node_6_Forest',\n",
       " '$funky_Catchment_for_node_6_Urban',\n",
       " '$funky_Catchment_for_node_7_Forest',\n",
       " '$funky_Catchment_for_node_7_Urban',\n",
       " '$funky_Catchment_for_node_8_Forest',\n",
       " '$funky_Catchment_for_node_8_Urban',\n",
       " '$funky_Catchment_for_node_9_Forest',\n",
       " '$funky_Catchment_for_node_9_Urban']"
      ]
     },
     "execution_count": 13,
     "metadata": {},
     "output_type": "execute_result"
    }
   ],
   "source": [
    "functions['created']"
   ]
  },
  {
   "cell_type": "markdown",
   "metadata": {},
   "source": [
    "**Note** You can see all these in Edit | Functions\n",
    "But the dockable 'Function Manager' doesn't tend to update (at least as of 4.3)"
   ]
  },
  {
   "cell_type": "markdown",
   "metadata": {},
   "source": [
    "We apply the function against a particular target (eg `v.model.catchment.runoff`).\n",
    "\n",
    "Because we've done all this against one target (`v.model.catchment.runoff`) we can assume that everything is in the same order, so the following bulk application can work."
   ]
  },
  {
   "cell_type": "code",
   "execution_count": 15,
   "metadata": {},
   "outputs": [
    {
     "data": {
      "text/plain": [
       "{'fail': 0, 'success': 20}"
      ]
     },
     "execution_count": 15,
     "metadata": {},
     "output_type": "execute_result"
    }
   ],
   "source": [
    "# Applying functions in some nonsensical manner...\n",
    "v.model.catchment.runoff.apply_function('A2',functions['created'])\n"
   ]
  },
  {
   "cell_type": "code",
   "execution_count": null,
   "metadata": {},
   "outputs": [],
   "source": []
  }
 ],
 "metadata": {
  "kernelspec": {
   "display_name": "Python 3",
   "language": "python",
   "name": "python3"
  },
  "language_info": {
   "codemirror_mode": {
    "name": "ipython",
    "version": 3
   },
   "file_extension": ".py",
   "mimetype": "text/x-python",
   "name": "python",
   "nbconvert_exporter": "python",
   "pygments_lexer": "ipython3",
   "version": "3.6.4"
  }
 },
 "nbformat": 4,
 "nbformat_minor": 2
}
